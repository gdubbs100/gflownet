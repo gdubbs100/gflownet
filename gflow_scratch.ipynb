{
 "cells": [
  {
   "cell_type": "markdown",
   "metadata": {},
   "source": [
    "Lets try and create a basic gflownet using a simple environment.\n",
    "Base it off here: https://github.com/GFNOrg/torchgfn/blob/master/tutorials/notebooks/intro_gfn_smiley.ipynb"
   ]
  },
  {
   "cell_type": "code",
   "execution_count": 5,
   "metadata": {},
   "outputs": [],
   "source": [
    "import matplotlib.pyplot as plt\n",
    "import numpy as np\n",
    "import matplotlib.cm as cm\n",
    "import random\n",
    "\n",
    "from torch.distributions.categorical import Categorical\n",
    "import torch\n",
    "import torch.nn as nn\n",
    "from tqdm import tqdm, trange"
   ]
  },
  {
   "cell_type": "code",
   "execution_count": 2,
   "metadata": {},
   "outputs": [
    {
     "data": {
      "text/plain": [
       "tensor([0, 1])"
      ]
     },
     "execution_count": 2,
     "metadata": {},
     "output_type": "execute_result"
    }
   ],
   "source": [
    "torch.arange(2)"
   ]
  },
  {
   "cell_type": "code",
   "execution_count": null,
   "metadata": {},
   "outputs": [],
   "source": [
    "## our dummy environment will be 'onlyOne'\n",
    "## input is a 1X3 array of 0s. Actions are to flip an entry to 1\n",
    "## goal is to have only one 1 in the array. reward is 1 if achieved, 0 otherwise"
   ]
  },
  {
   "cell_type": "code",
   "execution_count": 172,
   "metadata": {},
   "outputs": [],
   "source": [
    "class GFlowNet(nn.Module):\n",
    "    def __init__(self, num_hid):\n",
    "        ## TODO: may need to change input/output dims\n",
    "        super().__init__()\n",
    "        self.mlp = nn.Sequential(\n",
    "            nn.Linear(3, num_hid),\n",
    "            nn.LeakyReLU(),\n",
    "            nn.Linear(num_hid, 3)\n",
    "        )\n",
    "    \n",
    "    def forward(self, x):\n",
    "        return self.mlp(x).exp()\n",
    "\n",
    "class replayBuffer:\n",
    "\n",
    "    def __init__(self):\n",
    "        ## should I include initial state?\n",
    "        self.states = []\n",
    "        self.actions = []\n",
    "\n",
    "    def insert(self, state, action):\n",
    "        self.states.append(state)\n",
    "        self.actions.append(action)\n",
    "\n",
    "    def get_parents(self, state):\n",
    "        prev_states = torch.tensor(self.states)\n",
    "\n",
    "        ## for OnlyOne parents are where there is only a difference of 1\n",
    "        parent_idx = torch.where(\n",
    "            torch.abs(\n",
    "                torch.tensor(state).sum() - prev_states.sum(axis=1)\n",
    "            ) == 1\n",
    "        )\n",
    "\n",
    "        parent_states = prev_states[parent_idx]\n",
    "\n",
    "        # parent actions are the bit flipped to get from previous state to this state\n",
    "        parent_actions = torch.where(parent_states != torch.tensor(state))[1]\n",
    "\n",
    "        return parent_states, parent_actions\n",
    "    \n",
    "    def reset(self):\n",
    "        self.states = []\n",
    "        self.actions = []\n",
    "\n",
    "\n",
    "def flow_matching_loss(incoming_flows, outgoing_flows, reward):\n",
    "    return (incoming_flows.sum() - outgoing_flows.sum() - reward).pow(2)\n",
    "\n",
    "def flip(x):\n",
    "    return x + (-1)**x\n",
    "\n",
    "def update_state(state, action):\n",
    "    state[action] = flip(state[action])\n",
    "    return state\n",
    "\n",
    "def calc_reward(final_state):\n",
    "    return int(sum(final_state)==1)\n",
    "\n",
    "\n",
    "def set_seed(seed):\n",
    "    torch.manual_seed(seed)\n",
    "    random.seed(seed)\n",
    "    np.random.seed(seed)\n",
    "    torch.manual_seed(seed)\n",
    "    torch.backends.cudnn.deterministic = True\n",
    "    torch.backends.cudnn.benchmark = False"
   ]
  },
  {
   "cell_type": "code",
   "execution_count": 214,
   "metadata": {},
   "outputs": [
    {
     "name": "stderr",
     "output_type": "stream",
     "text": [
      "Training iter:   0%|          | 0/320 [00:00<?, ?it/s]C:\\Users\\61417\\AppData\\Local\\Temp\\ipykernel_40836\\4054840310.py:41: UserWarning: To copy construct from a tensor, it is recommended to use sourceTensor.clone().detach() or sourceTensor.clone().detach().requires_grad_(True), rather than torch.tensor(sourceTensor).\n",
      "  pa = torch.tensor(parent_actions).long()\n",
      "Training iter 0 (loss=2.413908):   0%|          | 1/320 [00:00<00:05, 62.09it/s]"
     ]
    },
    {
     "name": "stdout",
     "output_type": "stream",
     "text": [
      "current state: [0, 1, 0]\n",
      "==============\n",
      "parent states: tensor([[0, 0, 0]]);\n",
      " parent actions: tensor([1])\n",
      "current state: [0, 0, 0]\n",
      "==============\n",
      "parent states: tensor([[0, 1, 0]]);\n",
      " parent actions: tensor([1])\n",
      "current state: [0, 0, 1]\n",
      "==============\n",
      "parent states: tensor([[0, 0, 0],\n",
      "        [0, 0, 0]]);\n",
      " parent actions: tensor([2, 2])\n",
      "current state: [0, 1, 1]\n",
      "==============\n",
      "parent states: tensor([[0, 1, 0],\n",
      "        [0, 0, 1]]);\n",
      " parent actions: tensor([2, 1])\n",
      "current state: [0, 1, 0]\n",
      "==============\n",
      "parent states: tensor([[0, 0, 0],\n",
      "        [0, 0, 0],\n",
      "        [0, 1, 1]]);\n",
      " parent actions: tensor([1, 1, 2])\n",
      "current state: [1, 0, 0]\n",
      "==============\n",
      "parent states: tensor([[0, 0, 0]]);\n",
      " parent actions: tensor([0])\n",
      "current state: [1, 1, 0]\n",
      "==============\n",
      "parent states: tensor([[1, 0, 0]]);\n",
      " parent actions: tensor([1])\n",
      "current state: [1, 0, 0]\n",
      "==============\n",
      "parent states: tensor([[0, 0, 0],\n",
      "        [1, 1, 0]]);\n",
      " parent actions: tensor([0, 1])\n",
      "current state: [1, 0, 1]\n",
      "==============\n",
      "parent states: tensor([[1, 0, 0],\n",
      "        [1, 0, 0]]);\n",
      " parent actions: tensor([2, 2])\n",
      "current state: [0, 0, 1]\n",
      "==============\n",
      "parent states: tensor([[0, 0, 0],\n",
      "        [1, 1, 0],\n",
      "        [1, 0, 1]]);\n",
      " parent actions: tensor([2, 0, 1, 2, 0])\n"
     ]
    },
    {
     "name": "stderr",
     "output_type": "stream",
     "text": [
      "\n"
     ]
    },
    {
     "ename": "IndexError",
     "evalue": "shape mismatch: indexing tensors could not be broadcast together with shapes [3], [5]",
     "output_type": "error",
     "traceback": [
      "\u001b[1;31m---------------------------------------------------------------------------\u001b[0m",
      "\u001b[1;31mIndexError\u001b[0m                                Traceback (most recent call last)",
      "Cell \u001b[1;32mIn[214], line 43\u001b[0m\n\u001b[0;32m     41\u001b[0m pa \u001b[38;5;241m=\u001b[39m torch\u001b[38;5;241m.\u001b[39mtensor(parent_actions)\u001b[38;5;241m.\u001b[39mlong()\n\u001b[0;32m     42\u001b[0m \u001b[38;5;66;03m# takes relevant flows for action given state\u001b[39;00m\n\u001b[1;32m---> 43\u001b[0m parent_edge_flow_preds \u001b[38;5;241m=\u001b[39m \u001b[43mnet\u001b[49m\u001b[43m(\u001b[49m\u001b[43mps\u001b[49m\u001b[43m)\u001b[49m\u001b[43m[\u001b[49m\u001b[43mtorch\u001b[49m\u001b[38;5;241;43m.\u001b[39;49m\u001b[43marange\u001b[49m\u001b[43m(\u001b[49m\u001b[38;5;28;43mlen\u001b[39;49m\u001b[43m(\u001b[49m\u001b[43mparent_states\u001b[49m\u001b[43m)\u001b[49m\u001b[43m)\u001b[49m\u001b[43m,\u001b[49m\u001b[43m \u001b[49m\u001b[43mpa\u001b[49m\u001b[43m]\u001b[49m\n\u001b[0;32m     45\u001b[0m \u001b[38;5;66;03m## end of trajectory\u001b[39;00m\n\u001b[0;32m     46\u001b[0m \u001b[38;5;28;01mif\u001b[39;00m t\u001b[38;5;241m==\u001b[39m(T\u001b[38;5;241m-\u001b[39m\u001b[38;5;241m1\u001b[39m):\n",
      "\u001b[1;31mIndexError\u001b[0m: shape mismatch: indexing tensors could not be broadcast together with shapes [3], [5]"
     ]
    }
   ],
   "source": [
    "## run it:\n",
    "\n",
    "## set the seed\n",
    "set_seed(42)\n",
    "\n",
    "## create the network\n",
    "device='cpu'\n",
    "gflownet = GFlowNet(10)\n",
    "opt = torch.optim.Adam(gflownet.parameters(), 1e-4)\n",
    "buffer = replayBuffer()\n",
    "\n",
    "losses, samples = [], []\n",
    "minibatch_loss = 0\n",
    "update_freq = 10\n",
    "T = 5\n",
    "n_episodes = 320\n",
    "tbar = trange(n_episodes, desc=\"Training iter\")\n",
    "for episode in tbar:\n",
    "\n",
    "    state = [0,0,0] \n",
    "    edge_flow_preds = net(torch.tensor(state).float()) # should convert state to tensor\n",
    "\n",
    "    ## this is the length of the trajectory\n",
    "    for t in range(T):\n",
    "\n",
    "        ## normalise to get probs\n",
    "        policy = edge_flow_preds / edge_flow_preds.sum()\n",
    "\n",
    "        ## select discrete action\n",
    "        action = Categorical(probs=policy).sample()\n",
    "\n",
    "        ## TODO: here we need to update the environment based on the action\n",
    "        buffer.insert(state, action)\n",
    "        new_state = update_state(state.copy(), action)\n",
    "        # print(state, new_state, buffer.states)\n",
    "        \n",
    "        # calc flows\n",
    "        parent_states, parent_actions = buffer.get_parents(new_state)\n",
    "        print(f\"current state: {new_state}\",f\"parent states: {parent_states};\\n parent actions: {parent_actions}\", sep='\\n==============\\n')\n",
    "        ps = torch.stack([p for p in parent_states]).float()\n",
    "        pa = torch.tensor(parent_actions).long()\n",
    "        # takes relevant flows for action given state\n",
    "        parent_edge_flow_preds = net(ps)[torch.arange(len(parent_states)), pa]\n",
    "\n",
    "        ## end of trajectory\n",
    "        if t==(T-1):\n",
    "            reward = calc_reward(new_state) \n",
    "            edge_flow_preds = torch.zeros(3) ## need to change value?\n",
    "        else:\n",
    "            reward = 0\n",
    "            edge_flow_preds = net(torch.tensor(new_state).float())\n",
    "\n",
    "        minibatch_loss += flow_matching_loss(\n",
    "            parent_edge_flow_preds,\n",
    "            edge_flow_preds,\n",
    "            reward\n",
    "        )\n",
    "        state = new_state\n",
    "\n",
    "    ## clear buffer between episodes\n",
    "    buffer.reset()\n",
    "\n",
    "    ## record final state:\n",
    "    samples.append(state)\n",
    "\n",
    "    ## gradient step / parameter update\n",
    "    if episode % update_freq == 0:\n",
    "\n",
    "        # normalise loss\n",
    "        minibatch_loss = minibatch_loss / update_freq\n",
    "        losses.append(minibatch_loss.item())\n",
    "        tbar.set_description(f\"Training iter {episode} (loss={minibatch_loss:.6f})\")\n",
    "        minibatch_loss.backward()\n",
    "        opt.step()\n",
    "        opt.zero_grad()\n",
    "        minibatch_loss=0\n",
    "        "
   ]
  },
  {
   "cell_type": "code",
   "execution_count": 213,
   "metadata": {},
   "outputs": [
    {
     "data": {
      "text/plain": [
       "[[0, 0, 0], [1, 0, 0], [1, 1, 0], [1, 0, 0], [1, 0, 1]]"
      ]
     },
     "execution_count": 213,
     "metadata": {},
     "output_type": "execute_result"
    }
   ],
   "source": [
    "buffer.states"
   ]
  },
  {
   "cell_type": "code",
   "execution_count": 204,
   "metadata": {},
   "outputs": [
    {
     "data": {
      "text/plain": [
       "tensor([0, 2, 1, 2])"
      ]
     },
     "execution_count": 204,
     "metadata": {},
     "output_type": "execute_result"
    }
   ],
   "source": [
    "torch.where(parent_states != torch.tensor(state))[1]"
   ]
  },
  {
   "cell_type": "code",
   "execution_count": 209,
   "metadata": {},
   "outputs": [
    {
     "data": {
      "text/plain": [
       "(tensor([[1, 0, 0],\n",
       "         [1, 0, 0]]),\n",
       " tensor([2, 2]))"
      ]
     },
     "execution_count": 209,
     "metadata": {},
     "output_type": "execute_result"
    }
   ],
   "source": [
    "prev_states = torch.tensor(buffer.states)\n",
    "\n",
    "## for OnlyOne parents are where there is only a difference of 1\n",
    "parent_idx = torch.where(\n",
    "    torch.abs(\n",
    "        torch.tensor(state).sum() - prev_states.sum(axis=1)\n",
    "    ) == 1\n",
    ")\n",
    "\n",
    "parent_states = prev_states[parent_idx]\n",
    "\n",
    "# parent actions are the bit flipped to get from previous state to this state\n",
    "parent_actions = torch.where(parent_states != torch.tensor(state))[1]\n",
    "\n",
    "parent_states, parent_actions"
   ]
  },
  {
   "cell_type": "code",
   "execution_count": 205,
   "metadata": {},
   "outputs": [
    {
     "data": {
      "text/plain": [
       "tensor([[0, 0, 0],\n",
       "        [1, 1, 0],\n",
       "        [1, 0, 1]])"
      ]
     },
     "execution_count": 205,
     "metadata": {},
     "output_type": "execute_result"
    }
   ],
   "source": [
    "parent_states"
   ]
  },
  {
   "cell_type": "code",
   "execution_count": 206,
   "metadata": {},
   "outputs": [
    {
     "data": {
      "text/plain": [
       "[1, 0, 1]"
      ]
     },
     "execution_count": 206,
     "metadata": {},
     "output_type": "execute_result"
    }
   ],
   "source": [
    "state"
   ]
  },
  {
   "cell_type": "code",
   "execution_count": 198,
   "metadata": {},
   "outputs": [
    {
     "data": {
      "text/plain": [
       "[<matplotlib.lines.Line2D at 0x1be7c5ea550>]"
      ]
     },
     "execution_count": 198,
     "metadata": {},
     "output_type": "execute_result"
    },
    {
     "data": {
      "image/png": "[encoded data removed]",
      "text/plain": [
       "<Figure size 640x480 with 1 Axes>"
      ]
     },
     "metadata": {},
     "output_type": "display_data"
    }
   ],
   "source": [
    "plt.plot(losses)"
   ]
  },
  {
   "cell_type": "code",
   "execution_count": 199,
   "metadata": {},
   "outputs": [
    {
     "data": {
      "text/plain": [
       "tensor(0.7781)"
      ]
     },
     "execution_count": 199,
     "metadata": {},
     "output_type": "execute_result"
    }
   ],
   "source": [
    "((torch.tensor(samples).sum(axis=1) == 1).float()).mean()"
   ]
  },
  {
   "cell_type": "code",
   "execution_count": 153,
   "metadata": {},
   "outputs": [
    {
     "data": {
      "text/plain": [
       "[0, 1, 0]"
      ]
     },
     "execution_count": 153,
     "metadata": {},
     "output_type": "execute_result"
    }
   ],
   "source": [
    "net()"
   ]
  },
  {
   "cell_type": "code",
   "execution_count": 145,
   "metadata": {},
   "outputs": [],
   "source": [
    "update_state(state, action)"
   ]
  },
  {
   "cell_type": "code",
   "execution_count": 143,
   "metadata": {},
   "outputs": [
    {
     "name": "stdout",
     "output_type": "stream",
     "text": [
      "[0, 1, 0] tensor(1)\n"
     ]
    },
    {
     "data": {
      "text/plain": [
       "[0, 0, 0]"
      ]
     },
     "execution_count": 143,
     "metadata": {},
     "output_type": "execute_result"
    }
   ],
   "source": [
    "print(state, action)\n",
    "state[action]=flip(state[action])\n",
    "state"
   ]
  },
  {
   "cell_type": "code",
   "execution_count": 76,
   "metadata": {},
   "outputs": [
    {
     "name": "stdout",
     "output_type": "stream",
     "text": [
      "FEATURE_KEYS=['smile', 'frown', 'left_eb_down', 'left_eb_up', 'right_eb_down', 'right_eb_up']\n",
      "([[]], [1])\n",
      "([['left_eb_up'], ['frown']], [1, 3])\n",
      "([['left_eb_up', 'right_eb_up'], ['frown', 'right_eb_up'], ['frown', 'left_eb_up']], [1, 3, 5])\n",
      "([['left_eb_up', 'right_eb_up', 'left_eb_down'], ['frown', 'right_eb_up', 'left_eb_down'], ['frown', 'left_eb_up', 'left_eb_down'], ['frown', 'left_eb_up', 'right_eb_up']], [1, 3, 5, 2])\n"
     ]
    }
   ],
   "source": [
    "\n",
    "\n",
    "_mouth_kwargs = {\"closed\": False, \"fill\": False, \"lw\": 3}\n",
    "FEATURES = {\n",
    "    'smile': lambda: plt.gca().add_patch(plt.Polygon(\n",
    "        np.stack(\n",
    "            [np.linspace(0.2, 0.8), 0.3 - np.sin(np.linspace(0, 3.14)) * 0.15]\n",
    "        ).T,\n",
    "        **_mouth_kwargs\n",
    "        )\n",
    "    ),\n",
    "    'frown': lambda: plt.gca().add_patch(plt.Polygon(\n",
    "        np.stack(\n",
    "            [np.linspace(0.2, 0.8), 0.15 + np.sin(np.linspace(0, 3.14)) * 0.15]\n",
    "        ).T,\n",
    "        **_mouth_kwargs,\n",
    "        )\n",
    "    ),\n",
    "    'left_eb_down': lambda: plt.gca().add_line(plt.Line2D(\n",
    "        [0.15, 0.35], [0.75, 0.7], color=(0, 0, 0))\n",
    "    ),\n",
    "    'right_eb_down': lambda: plt.gca().add_line(plt.Line2D(\n",
    "        [0.65, 0.85], [0.7, 0.75], color=(0, 0, 0))\n",
    "    ),\n",
    "    'left_eb_up': lambda: plt.gca().add_line(plt.Line2D(\n",
    "        [0.15, 0.35], [0.7, 0.75], color=(0, 0, 0))\n",
    "    ),\n",
    "    'right_eb_up': lambda: plt.gca().add_line(plt.Line2D(\n",
    "        [0.65, 0.85], [0.75, 0.7], color=(0, 0, 0))\n",
    "    ),\n",
    "}\n",
    "# Our feature space. A face has one mouth, one left eyebrow, and one right eyebrow.\n",
    "MOUTHS = [\"smile\", \"frown\"]\n",
    "LEFT_EB = [\"left_eb_down\", \"left_eb_up\"]\n",
    "RIGHT_EB = [\"right_eb_down\", \"right_eb_up\"]\n",
    "FEATURE_KEYS = MOUTHS + LEFT_EB + RIGHT_EB\n",
    "print(\"FEATURE_KEYS={}\".format(FEATURE_KEYS))\n",
    "\n",
    "def face_parents(state):\n",
    "  parent_states = []  # States that are parents of state.\n",
    "  parent_actions = []  # Actions that lead from those parents to state.\n",
    "\n",
    "  for feature in state:\n",
    "    # For each face part, there is a parent without that part.\n",
    "    parent_states.append([i for i in state if i != feature])  # TODO: implement.\n",
    "\n",
    "    # The action to get there is the corresponding index of that face part.\n",
    "    parent_actions.append(FEATURE_KEYS.index(feature))  # TODO: implement.\n",
    "\n",
    "  return parent_states, parent_actions\n",
    "\n",
    "state = []\n",
    "new_state = state + [FEATURE_KEYS[1]] # frown\n",
    "print(face_parents(new_state))\n",
    "new_state = new_state + [FEATURE_KEYS[3]] # left_eb_up\n",
    "print(face_parents(new_state))\n",
    "new_state = new_state + [FEATURE_KEYS[-1]] # right_eb_up\n",
    "print(face_parents(new_state))\n",
    "new_state = new_state + [FEATURE_KEYS[2]] # right_eb_up\n",
    "print(face_parents(new_state))\n",
    "\n"
   ]
  },
  {
   "cell_type": "code",
   "execution_count": 85,
   "metadata": {},
   "outputs": [
    {
     "name": "stdout",
     "output_type": "stream",
     "text": [
      "tensor([1, 1, 0])\n",
      "tensor([[0, 1, 0],\n",
      "        [0, 1, 0],\n",
      "        [1, 1, 1]])\n",
      "tensor([0, 0, 2])\n"
     ]
    }
   ],
   "source": [
    "next_state = torch.tensor([1,1,0])\n",
    "prev_states = torch.tensor([\n",
    "    [0,0,0],\n",
    "    [0,1,0],\n",
    "    [1,1,0],\n",
    "    [0,1,0],\n",
    "    [1,1,0],\n",
    "    [1,1,1]\n",
    "])\n",
    "\n",
    "\n",
    "parents = torch.where(torch.abs(next_state.sum() - prev_states.sum(axis=1)) ==1)\n",
    "\n",
    "parent_states = prev_states[parents]\n",
    "\n",
    "parent_actions = torch.where(parent_states != next_state)[1]\n",
    "\n",
    "print(next_state, parent_states, parent_actions, sep='\\n')"
   ]
  },
  {
   "cell_type": "code",
   "execution_count": 82,
   "metadata": {},
   "outputs": [
    {
     "name": "stdout",
     "output_type": "stream",
     "text": [
      "tensor([1, 1, 0])\n",
      "tensor([[0, 1, 0],\n",
      "        [0, 1, 0]])\n",
      "tensor([0, 0])\n"
     ]
    }
   ],
   "source": []
  },
  {
   "cell_type": "code",
   "execution_count": 66,
   "metadata": {},
   "outputs": [],
   "source": [
    "# parents in OnlyOne have only 1 value different\n",
    "# so a possible parent of a state is\n",
    "def get_parent_state(next_state, states):\n",
    "    \n"
   ]
  },
  {
   "cell_type": "code",
   "execution_count": null,
   "metadata": {},
   "outputs": [],
   "source": []
  }
 ],
 "metadata": {
  "kernelspec": {
   "display_name": "venv",
   "language": "python",
   "name": "python3"
  },
  "language_info": {
   "codemirror_mode": {
    "name": "ipython",
    "version": 3
   },
   "file_extension": ".py",
   "mimetype": "text/x-python",
   "name": "python",
   "nbconvert_exporter": "python",
   "pygments_lexer": "ipython3",
   "version": "3.11.5"
  }
 },
 "nbformat": 4,
 "nbformat_minor": 2
}
